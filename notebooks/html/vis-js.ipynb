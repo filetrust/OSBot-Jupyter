{
 "cells": [
  {
   "cell_type": "code",
   "execution_count": 88,
   "metadata": {
    "scrolled": true
   },
   "outputs": [
    {
     "name": "stdout",
     "output_type": "stream",
     "text": [
      "network_O5DIXL\n"
     ]
    },
    {
     "data": {
      "text/html": [
       "<div id='network_O5DIXL'></div>"
      ],
      "text/plain": [
       "<IPython.core.display.HTML object>"
      ]
     },
     "metadata": {},
     "output_type": "display_data"
    },
    {
     "data": {
      "application/javascript": [
       "requirejs.config({\"paths\": {\"vis\": \"https://cdnjs.cloudflare.com/ajax/libs/vis/4.21.0/vis.min\"}});\n",
       "require(['vis'], function(vis) {\n",
       "\n",
       "            \n",
       "                        var container = document.getElementById('network_O5DIXL');\n",
       "                        var data= {\n",
       "                            nodes: [],\n",
       "                            edges: []\n",
       "                        };\n",
       "                        var options = {}         \n",
       "                        window['_network_O5DIXL'] = new vis.Network(container, data, options);    \n",
       "                  \n",
       "\n",
       "})"
      ],
      "text/plain": [
       "<IPython.core.display.Javascript object>"
      ]
     },
     "metadata": {},
     "output_type": "display_data"
    }
   ],
   "source": [
    "import sys; sys.path.append('..')\n",
    "from osbot_jupyter.api_js.Jp_Vis_Js import Jp_Vis_Js\n",
    "Jp_Vis_Js().show_vis([],[],{})"
   ]
  },
  {
   "cell_type": "code",
   "execution_count": 96,
   "metadata": {},
   "outputs": [
    {
     "data": {
      "application/javascript": [
       "\n",
       "var nodes = [{\"id\": 1, \"label\": 'from here'},\n",
       "          {\"id\": 2, \"label\": 'to here'}]\n",
       "var edges = [{\"from\": 1, \"to\": 2, \"arrows\": 'to'}]\n",
       "\n",
       "var options = {\"height\": \"200px\", \n",
       "                \"nodes\": {\"shape\": \"box\", \"color\": \"lightgreen\"}}\n",
       "_network_O5DIXL.setData({nodes:nodes,edges:edges,options:options})\n"
      ],
      "text/plain": [
       "<IPython.core.display.Javascript object>"
      ]
     },
     "metadata": {},
     "output_type": "display_data"
    }
   ],
   "source": [
    "%%javascript\n",
    "\n",
    "var nodes = [{\"id\": 1, \"label\": 'from here'},\n",
    "          {\"id\": 2, \"label\": 'to here'}]\n",
    "var edges = [{\"from\": 1, \"to\": 2, \"arrows\": 'to'}]\n",
    "\n",
    "var options = {\"height\": \"200px\", \n",
    "                \"nodes\": {\"shape\": \"box\", \"color\": \"lightgreen\"}}\n",
    "_network_O5DIXL.setData({nodes:nodes,edges:edges,options:options})"
   ]
  },
  {
   "cell_type": "code",
   "execution_count": null,
   "metadata": {},
   "outputs": [],
   "source": []
  }
 ],
 "metadata": {
  "kernelspec": {
   "display_name": "Python 3",
   "language": "python",
   "name": "python3"
  },
  "language_info": {
   "codemirror_mode": {
    "name": "ipython",
    "version": 3
   },
   "file_extension": ".py",
   "mimetype": "text/x-python",
   "name": "python",
   "nbconvert_exporter": "python",
   "pygments_lexer": "ipython3",
   "version": "3.7.3"
  }
 },
 "nbformat": 4,
 "nbformat_minor": 2
}
