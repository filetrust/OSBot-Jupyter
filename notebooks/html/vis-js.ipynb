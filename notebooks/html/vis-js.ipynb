{
 "cells": [
  {
   "cell_type": "code",
   "execution_count": 31,
   "metadata": {},
   "outputs": [
    {
     "data": {
      "application/javascript": [
       "\n",
       "requirejs.config({\n",
       "    paths: {\n",
       "        vis: '//cdnjs.cloudflare.com/ajax/libs/vis/4.21.0/vis.min'\n",
       "    }\n",
       "});\n",
       "\n",
       "require(['vis'], function(vis){\n",
       "    \n",
       "    var nodes = [\n",
       "        {id: 1, label: 'asda', group: 'United States'},\n",
       "        {id: 2, label: 'Barak Obama', group: 'United States'},\n",
       "        {id: 3, label: 'Miley Cyrus', group: 'United States'},\n",
       "        {id: 4, label: 'Pope Francis', group: 'Vatican'},\n",
       "        {id: 5, label: 'Vladimir Putin', group: 'Rusia'}\n",
       "    ];\n",
       "\n",
       "    // create an array with edges\n",
       "    var edges = [\n",
       "        {from: 1, to: 2},\n",
       "        {from: 1, to: 3},\n",
       "        {from: 2, to: 4},\n",
       "        {from: 2, to: 5}\n",
       "    ];\n",
       "\n",
       "    // create a network\n",
       "    var container = document.getElementById('mynetwork');\n",
       "    var data= {\n",
       "        nodes: nodes,\n",
       "        edges: edges,\n",
       "    };\n",
       "    var options = {\n",
       "        width: '800px',\n",
       "        height: '400px'\n",
       "    };\n",
       "    \n",
       "    window.network = new vis.Network(container, data, options);\n",
       "});\n",
       "\n"
      ],
      "text/plain": [
       "<IPython.core.display.Javascript object>"
      ]
     },
     "metadata": {},
     "output_type": "display_data"
    }
   ],
   "source": [
    "%%javascript\n",
    "\n",
    "requirejs.config({\n",
    "    paths: {\n",
    "        vis: '//cdnjs.cloudflare.com/ajax/libs/vis/4.21.0/vis.min'\n",
    "    }\n",
    "});\n",
    "\n",
    "require(['vis'], function(vis){\n",
    "    \n",
    "    var nodes = [\n",
    "        {id: 1, label: 'asda', group: 'United States'},\n",
    "        {id: 2, label: 'Barak Obama', group: 'United States'},\n",
    "        {id: 3, label: 'Miley Cyrus', group: 'United States'},\n",
    "        {id: 4, label: 'Pope Francis', group: 'Vatican'},\n",
    "        {id: 5, label: 'Vladimir Putin', group: 'Rusia'}\n",
    "    ];\n",
    "\n",
    "    // create an array with edges\n",
    "    var edges = [\n",
    "        {from: 1, to: 2},\n",
    "        {from: 1, to: 3},\n",
    "        {from: 2, to: 4},\n",
    "        {from: 2, to: 5}\n",
    "    ];\n",
    "\n",
    "    // create a network\n",
    "    var container = document.getElementById('mynetwork');\n",
    "    var data= {\n",
    "        nodes: nodes,\n",
    "        edges: edges,\n",
    "    };\n",
    "    var options = {\n",
    "        width: '800px',\n",
    "        height: '400px'\n",
    "    };\n",
    "    \n",
    "    window.network = new vis.Network(container, data, options);\n",
    "});\n",
    "\n"
   ]
  },
  {
   "cell_type": "code",
   "execution_count": 29,
   "metadata": {
    "scrolled": true
   },
   "outputs": [
    {
     "data": {
      "text/html": [
       "<div id=\"mynetwork\"></div>\n"
      ],
      "text/plain": [
       "<IPython.core.display.HTML object>"
      ]
     },
     "metadata": {},
     "output_type": "display_data"
    }
   ],
   "source": [
    "%%html\n",
    "<div id=\"mynetwork\"></div>"
   ]
  },
  {
   "cell_type": "code",
   "execution_count": 32,
   "metadata": {},
   "outputs": [
    {
     "data": {
      "text/html": [
       "<script>alert('Hello World!');</script>"
      ],
      "text/plain": [
       "<IPython.core.display.HTML object>"
      ]
     },
     "metadata": {},
     "output_type": "display_data"
    }
   ],
   "source": [
    "from IPython.display import display, HTML\n",
    "js = \"<script>alert('Hello World!');</script>\"\n",
    "display(HTML(js))"
   ]
  },
  {
   "cell_type": "code",
   "execution_count": 33,
   "metadata": {},
   "outputs": [
    {
     "data": {
      "application/javascript": [
       "element.append(\"<div id='chart1'>aaa</div>\");\n"
      ],
      "text/plain": [
       "<IPython.core.display.Javascript object>"
      ]
     },
     "metadata": {},
     "output_type": "display_data"
    }
   ],
   "source": [
    "%%javascript\n",
    "element.append(\"<div id='chart1'>aaa</div>\");"
   ]
  },
  {
   "cell_type": "code",
   "execution_count": 36,
   "metadata": {},
   "outputs": [
    {
     "data": {
      "application/javascript": [
       "element.append(\"<div id='chart1'>1234</div>\");\n"
      ],
      "text/plain": [
       "<IPython.core.display.Javascript object>"
      ]
     },
     "metadata": {},
     "output_type": "display_data"
    }
   ],
   "source": [
    "%%javascript\n",
    "element.append(\"<div id='chart1'>1234</div>\");"
   ]
  },
  {
   "cell_type": "code",
   "execution_count": 37,
   "metadata": {},
   "outputs": [
    {
     "data": {
      "application/javascript": [
       "element.append(\"<div id='chart1'>another one</div>\");\n"
      ],
      "text/plain": [
       "<IPython.core.display.Javascript object>"
      ]
     },
     "metadata": {},
     "output_type": "display_data"
    }
   ],
   "source": [
    "%%javascript\n",
    "element.append(\"<div id='chart1'>another one</div>\");"
   ]
  },
  {
   "cell_type": "code",
   "execution_count": 43,
   "metadata": {},
   "outputs": [
    {
     "data": {
      "application/javascript": [
       "alert($('#chart1').size())\n"
      ],
      "text/plain": [
       "<IPython.core.display.Javascript object>"
      ]
     },
     "metadata": {},
     "output_type": "display_data"
    }
   ],
   "source": [
    "%%javascript\n",
    "alert($('#chart1').size())"
   ]
  },
  {
   "cell_type": "code",
   "execution_count": 46,
   "metadata": {},
   "outputs": [
    {
     "data": {
      "text/html": [
       "\n",
       "<b> some bold</b>\n"
      ],
      "text/plain": [
       "<IPython.core.display.HTML object>"
      ]
     },
     "metadata": {},
     "output_type": "display_data"
    }
   ],
   "source": [
    "%%HTML\n",
    "\n",
    "<b> some bold</b>"
   ]
  },
  {
   "cell_type": "code",
   "execution_count": null,
   "metadata": {},
   "outputs": [],
   "source": []
  }
 ],
 "metadata": {
  "kernelspec": {
   "display_name": "Python 3",
   "language": "python",
   "name": "python3"
  },
  "language_info": {
   "codemirror_mode": {
    "name": "ipython",
    "version": 3
   },
   "file_extension": ".py",
   "mimetype": "text/x-python",
   "name": "python",
   "nbconvert_exporter": "python",
   "pygments_lexer": "ipython3",
   "version": "3.7.3"
  }
 },
 "nbformat": 4,
 "nbformat_minor": 2
}
