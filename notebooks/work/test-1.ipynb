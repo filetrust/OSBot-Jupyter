{
 "cells": [
  {
   "cell_type": "code",
   "execution_count": 419,
   "metadata": {},
   "outputs": [
    {
     "name": "stdout",
     "output_type": "stream",
     "text": [
      "network_CWZZYO\n"
     ]
    },
    {
     "data": {
      "text/html": [
       "<div id='network_CWZZYO'></div>"
      ],
      "text/plain": [
       "<IPython.core.display.HTML object>"
      ]
     },
     "metadata": {},
     "output_type": "display_data"
    },
    {
     "data": {
      "application/javascript": [
       "requirejs.config({\"paths\": {\"vis\": \"https://cdnjs.cloudflare.com/ajax/libs/vis/4.21.0/vis.min\"}});\n",
       "require(['vis'], function(vis) {\n",
       "\n",
       "            \n",
       "                        var container = document.getElementById('network_CWZZYO');\n",
       "                        var data= {\n",
       "                            nodes: [{\"id\": 1, \"label\": \"1st label\"}, {\"id\": 2, \"label\": \"2nd label\"}],\n",
       "                            edges: [{\"from\": 1, \"to\": 2, \"arrows\": \"to\"}]\n",
       "                        };\n",
       "                        var options = {'height': '200px', 'nodes': {'shape': 'box', 'color': 'lightgreen'}}         \n",
       "                        window['_network_CWZZYO'] = new vis.Network(container, data, options);    \n",
       "                  \n",
       "\n",
       "})"
      ],
      "text/plain": [
       "<IPython.core.display.Javascript object>"
      ]
     },
     "metadata": {},
     "output_type": "display_data"
    }
   ],
   "source": [
    "%autoreload\n",
    "\n",
    "import sys; sys.path.append('..')\n",
    "from osbot_jupyter.api_js.Jp_Vis_Js import Jp_Vis_Js\n",
    "jp_vis = Jp_Vis_Js()\n",
    "#jp_vis.js_invoke('element.text(vis)')\n",
    "jp_vis.test_vis()"
   ]
  },
  {
   "cell_type": "code",
   "execution_count": null,
   "metadata": {},
   "outputs": [],
   "source": []
  },
  {
   "cell_type": "code",
   "execution_count": null,
   "metadata": {},
   "outputs": [],
   "source": []
  }
 ],
 "metadata": {
  "kernelspec": {
   "display_name": "Python 3",
   "language": "python",
   "name": "python3"
  },
  "language_info": {
   "codemirror_mode": {
    "name": "ipython",
    "version": 3
   },
   "file_extension": ".py",
   "mimetype": "text/x-python",
   "name": "python",
   "nbconvert_exporter": "python",
   "pygments_lexer": "ipython3",
   "version": "3.7.3"
  }
 },
 "nbformat": 4,
 "nbformat_minor": 2
}
