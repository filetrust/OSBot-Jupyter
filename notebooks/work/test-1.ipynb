{
 "cells": [
  {
   "cell_type": "code",
   "execution_count": 19,
   "metadata": {
    "ExecuteTime": {
     "end_time": "2019-04-30T23:20:15.556757Z",
     "start_time": "2019-04-30T23:20:15.225446Z"
    }
   },
   "outputs": [
    {
     "data": {
      "text/html": [
       "<div id='network_6NMGOA'></div>"
      ],
      "text/plain": [
       "<IPython.core.display.HTML object>"
      ]
     },
     "metadata": {},
     "output_type": "display_data"
    },
    {
     "data": {
      "application/javascript": [
       "requirejs.config({\"paths\": {\"vis\": \"https://cdnjs.cloudflare.com/ajax/libs/vis/4.21.0/vis.min\"}});\n",
       "require(['vis'], function(vis) {\n",
       "\n",
       "            \n",
       "                        var container = document.getElementById('network_6NMGOA');\n",
       "                        var data= {\n",
       "                            nodes: [{\"id\": 1, \"label\": \"1st label\"}, {\"id\": 2, \"label\": \"2nd label\"}],\n",
       "                            edges: [{\"from\": 1, \"to\": 2, \"arrows\": \"to\"}]\n",
       "                        };\n",
       "                        var options = {'height': '200px', 'nodes': {'shape': 'box', 'color': 'lightgreen'}}         \n",
       "                        window['_network_6NMGOA'] = new vis.Network(container, data, options);    \n",
       "                  \n",
       "\n",
       "})"
      ],
      "text/plain": [
       "<IPython.core.display.Javascript object>"
      ]
     },
     "metadata": {},
     "output_type": "display_data"
    }
   ],
   "source": [
    "#%autoreload\n",
    "\n",
    "import sys; sys.path.append('..')\n",
    "from osbot_jupyter.api_js.Jp_Vis_Js import Jp_Vis_Js\n"
   ]
  },
  {
   "cell_type": "code",
   "execution_count": null,
   "metadata": {},
   "outputs": [],
   "source": []
  },
  {
   "cell_type": "code",
   "execution_count": 22,
   "metadata": {
    "ExecuteTime": {
     "end_time": "2019-04-30T23:20:52.915528Z",
     "start_time": "2019-04-30T23:20:52.901282Z"
    }
   },
   "outputs": [
    {
     "data": {
      "text/plain": [
       "<module 'pandas' from '/opt/conda/lib/python3.7/site-packages/pandas/__init__.py'>"
      ]
     },
     "execution_count": 22,
     "metadata": {},
     "output_type": "execute_result"
    }
   ],
   "source": [
    "import pandas as pd\n",
    "pd."
   ]
  },
  {
   "cell_type": "code",
   "execution_count": null,
   "metadata": {},
   "outputs": [],
   "source": []
  },
  {
   "cell_type": "code",
   "execution_count": null,
   "metadata": {},
   "outputs": [],
   "source": []
  }
 ],
 "metadata": {
  "hide_input": false,
  "kernelspec": {
   "display_name": "Python 3",
   "language": "python",
   "name": "python3"
  },
  "language_info": {
   "codemirror_mode": {
    "name": "ipython",
    "version": 3
   },
   "file_extension": ".py",
   "mimetype": "text/x-python",
   "name": "python",
   "nbconvert_exporter": "python",
   "pygments_lexer": "ipython3",
   "version": "3.7.3"
  },
  "varInspector": {
   "cols": {
    "lenName": 16,
    "lenType": 16,
    "lenVar": 40
   },
   "kernels_config": {
    "python": {
     "delete_cmd_postfix": "",
     "delete_cmd_prefix": "del ",
     "library": "var_list.py",
     "varRefreshCmd": "print(var_dic_list())"
    },
    "r": {
     "delete_cmd_postfix": ") ",
     "delete_cmd_prefix": "rm(",
     "library": "var_list.r",
     "varRefreshCmd": "cat(var_dic_list()) "
    }
   },
   "oldHeight": 450,
   "position": {
    "height": "40px",
    "left": "1198px",
    "right": "20px",
    "top": "17px",
    "width": "250px"
   },
   "types_to_exclude": [
    "module",
    "function",
    "builtin_function_or_method",
    "instance",
    "_Feature"
   ],
   "varInspector_section_display": "none",
   "window_display": false
  }
 },
 "nbformat": 4,
 "nbformat_minor": 2
}
