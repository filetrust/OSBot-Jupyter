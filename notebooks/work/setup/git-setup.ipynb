{
 "cells": [
  {
   "cell_type": "markdown",
   "metadata": {},
   "source": [
    "## install dependencies\n",
    "\n",
    "These commands install dependencies needed for the correct execution of the hosted notebooks \n",
    "\n",
    "Some of these should be moved to the base docker image"
   ]
  },
  {
   "cell_type": "code",
   "execution_count": 3,
   "metadata": {},
   "outputs": [
    {
     "name": "stdout",
     "output_type": "stream",
     "text": [
      "installing Git\n",
      "Reading package lists... Done\n",
      "Building dependency tree       \n",
      "Reading state information... Done\n",
      "git is already the newest version (1:2.17.1-1ubuntu0.4).\n",
      "0 upgraded, 0 newly installed, 0 to remove and 27 not upgraded.\n",
      "From https://github.com/pbx-gs/OSBot-Jupyter\n",
      " * branch            master     -> FETCH_HEAD\n",
      "Updating ed8f61e..79bc76d\n",
      "Fast-forward\n",
      " .gitignore                                   |   1 \u001b[32m+\u001b[m\n",
      " notebooks/work/examples/large-images.ipynb   |  53 \u001b[32m++++++++++++++\u001b[m\n",
      " notebooks/work/examples/osbot-commands.ipynb | 101 \u001b[32m+++++++++++++++++++++++++++\u001b[m\n",
      " notebooks/work/examples/setup.ipynb          |  40 \u001b[32m+++++++++++\u001b[m\n",
      " notebooks/work/helper.py                     |   2 \u001b[32m+\u001b[m\u001b[31m-\u001b[m\n",
      " 5 files changed, 196 insertions(+), 1 deletion(-)\n",
      " create mode 100644 notebooks/work/examples/large-images.ipynb\n",
      " create mode 100644 notebooks/work/examples/osbot-commands.ipynb\n",
      " create mode 100644 notebooks/work/examples/setup.ipynb\n"
     ]
    }
   ],
   "source": [
    "#installing Git \n",
    "\n",
    "!apt-get install -y git"
   ]
  },
  {
   "cell_type": "code",
   "execution_count": 1,
   "metadata": {},
   "outputs": [
    {
     "name": "stdout",
     "output_type": "stream",
     "text": [
      "Generating public/private rsa key pair.\n",
      "Your identification has been saved in /root/.ssh/id_rsa.\n",
      "Your public key has been saved in /root/.ssh/id_rsa.pub.\n",
      "The key fingerprint is:\n",
      "SHA256:Ly09xXUakevmmQLId9fnng1E3U/BC0lTaEiYkS5mX7k root@8d329fc4cec5\n",
      "The key's randomart image is:\n",
      "+---[RSA 2048]----+\n",
      "|         .*.oo*+ |\n",
      "|         + . =o+o|\n",
      "|        .   o =.*|\n",
      "|       + . + o.*.|\n",
      "|      o.S.. +.o..|\n",
      "|        o=oE..+ o|\n",
      "|        o.=o +.+.|\n",
      "|         o .. +.+|\n",
      "|             . oo|\n",
      "+----[SHA256]-----+\n",
      "ssh-rsa AAAAB3NzaC1yc2EAAAADAQABAAABAQDMrTLHLGTl6KD047i26EMuqgl1VpW/hrj3WlMMFg9pmqTyu1EhQ1er+KzU/TJPBjrsf5dYZ0GKDwr+6x2xLT7OyqLbhc6lYF842OM4q0vljbaVJk55kpbmYb+4QU+3pDw+9g1BHHLLc7rfn94/AU02StyJGiGN2V0WmtY29QZHj1oyLt8sJlrpyrqB62WHQsFuAONaghlEvuq7+9Pna+Li/2hzMDj5JfxiaJqopIatIBPiL+ICQXvvgOShp/aXmA5O7BRUy5MFa/lnyJkF4fwwRPv0quEYjYN6XlTYq+inoqS31bupbAi9E8eg1mi7oeDfMewyDoU38kx49Daoyba5 root@8d329fc4cec5\n"
     ]
    }
   ],
   "source": [
    "# setup ssh key\n",
    "!mkdir /root/.ssh\n",
    "!ssh-keygen -f /root/.ssh/id_rsa -t rsa -N ''\n",
    "!cat /root/.ssh/id_rsa.pub"
   ]
  },
  {
   "cell_type": "code",
   "execution_count": 2,
   "metadata": {},
   "outputs": [
    {
     "name": "stdout",
     "output_type": "stream",
     "text": [
      "Warning: Permanently added the RSA host key for IP address '140.82.118.4' to the list of known hosts.\n",
      "git@github.com: Permission denied (publickey).\n"
     ]
    }
   ],
   "source": [
    "!echo \"github.com ssh-rsa AAAAB3NzaC1yc2EAAAABIwAAAQEAq2A7hRGmdnm9tUDbO9IDSwBK6TbQa+PXYPCPy6rbTrTtw7PHkccKrpp0yVhp5HdEIcKr6pLlVDBfOLX9QUsyCOV0wzfjIJNlGEYsdlLJizHhbn2mUjvSAHQqZETYP81eFzLQNnPHt4EVVUh7VfDESU84KezmD5QlWpXLmvU31/yMf+Se8xhHTvKSCZIFImWwoG6mbUoWf9nzpIoaSjB+weqqUUmpaaasXVal72J+UX2B+2RPW3RcT0eOzQgqlJL3RKrTJvdsjE3JEAvGq3lGHSZXy28G3skua2SmVi/w4yCE6gbODqnTWlg7+wC604ydGXA8VJiS5ap43JXiUFFAaQ==\" >> /root/.ssh/known_hosts\n",
    "!ssh git@github.com"
   ]
  },
  {
   "cell_type": "code",
   "execution_count": 3,
   "metadata": {},
   "outputs": [
    {
     "name": "stdout",
     "output_type": "stream",
     "text": [
      "origin\tgit@github.com:pbx-gs/OSBot-Jupyter.git (fetch)\r\n",
      "origin\tgit@github.com:pbx-gs/OSBot-Jupyter.git (push)\r\n"
     ]
    }
   ],
   "source": [
    "# change remote\n",
    "!git remote set-url origin git@github.com:pbx-gs/OSBot-Jupyter.git\n",
    "!git remote -v    "
   ]
  },
  {
   "cell_type": "code",
   "execution_count": 5,
   "metadata": {},
   "outputs": [],
   "source": [
    "#setup user\n",
    "!git config --global user.email \"gsbot@photobox.com\"\n",
    "!git config --global user.name \"GSBot\""
   ]
  },
  {
   "cell_type": "code",
   "execution_count": 7,
   "metadata": {},
   "outputs": [
    {
     "name": "stdout",
     "output_type": "stream",
     "text": [
      "From github.com:pbx-gs/OSBot-Jupyter\n",
      " * branch            master     -> FETCH_HEAD\n",
      "Updating ec39de6..f314673\n",
      "Fast-forward\n",
      " notebooks/work/setup/git-setup.ipynb | 5 \u001b[32m+++\u001b[m\u001b[31m--\u001b[m\n",
      " tests/unit/api/test_Jupyter_Web.py   | 2 \u001b[32m+\u001b[m\u001b[31m-\u001b[m\n",
      " 2 files changed, 4 insertions(+), 3 deletions(-)\n",
      "Already on 'master'\n"
     ]
    }
   ],
   "source": [
    "# pulling latest changes\n",
    "!git pull origin master\n",
    "!git checkout master"
   ]
  },
  {
   "cell_type": "code",
   "execution_count": 38,
   "metadata": {},
   "outputs": [],
   "source": [
    "# see current local changes\n",
    "!git diff master"
   ]
  },
  {
   "cell_type": "code",
   "execution_count": 35,
   "metadata": {},
   "outputs": [
    {
     "name": "stdout",
     "output_type": "stream",
     "text": [
      "On branch master\n",
      "nothing to commit, working tree clean\n",
      "To github.com:pbx-gs/OSBot-Jupyter.git\n"
     ]
    }
   ],
   "source": [
    "# commit and push local changes\n",
    "!git commit -a -m 'changes made on jupyter notebook'\n",
    "!git push origin master"
   ]
  },
  {
   "cell_type": "code",
   "execution_count": null,
   "metadata": {},
   "outputs": [],
   "source": [
    "#git clone https://git-codecommit.eu-west-2.amazonaws.com/v1/repos/test-notebooks"
   ]
  }
 ],
 "metadata": {
  "kernelspec": {
   "display_name": "Python 3",
   "language": "python",
   "name": "python3"
  },
  "language_info": {
   "codemirror_mode": {
    "name": "ipython",
    "version": 3
   },
   "file_extension": ".py",
   "mimetype": "text/x-python",
   "name": "python",
   "nbconvert_exporter": "python",
   "pygments_lexer": "ipython3",
   "version": "3.7.3"
  }
 },
 "nbformat": 4,
 "nbformat_minor": 2
}
